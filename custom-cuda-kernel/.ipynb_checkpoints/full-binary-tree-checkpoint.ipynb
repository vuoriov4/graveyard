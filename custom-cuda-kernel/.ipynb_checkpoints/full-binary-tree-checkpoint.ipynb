{
 "cells": [
  {
   "cell_type": "code",
   "execution_count": 9,
   "metadata": {},
   "outputs": [],
   "source": [
    "import torch"
   ]
  },
  {
   "cell_type": "code",
   "execution_count": 41,
   "metadata": {},
   "outputs": [],
   "source": [
    "class FullBinaryTree:\n",
    "    \n",
    "    def __init__(self, max_depth, num_features):\n",
    "        \"\"\"\n",
    "        Initialize the full binary tree.\n",
    "        \n",
    "        Args:\n",
    "            max_depth (int): Maximum depth.\n",
    "            num_features (int or list of ints): Number of features for each node.\n",
    "        \"\"\"\n",
    "        self.max_depth = max_depth\n",
    "        self.num_features = num_features\n",
    "        self.nodes = [[torch.randn(num_features)]]\n",
    "        for k in range(1, max_depth):\n",
    "            self.nodes.append([])\n",
    "            for i in range(0, 2 ** k): \n",
    "                self.nodes[k].append(torch.randn(num_features))\n",
    "    \n",
    "    def get_paths(self, leaf_indices):\n",
    "        \"\"\"\n",
    "        Find the path(s) from leaf index to base.\n",
    "        \n",
    "        Args:\n",
    "            leaf_indices (list of ints): List of leaf indices.\n",
    "        \"\"\"\n",
    "        paths = []\n",
    "        for idx in leaf_indices:\n",
    "            path = [self.nodes[self.max_depth - 1][idx]]\n",
    "            c_idx = idx\n",
    "            for k in range(self.max_depth - 2, -1, -1):\n",
    "                c_idx = c_idx // 2\n",
    "                path.append(self.nodes[k][c_idx])\n",
    "            paths.append(path)\n",
    "        return torch.Tensor(paths)"
   ]
  },
  {
   "cell_type": "code",
   "execution_count": 3,
   "metadata": {},
   "outputs": [
    {
     "name": "stdout",
     "output_type": "stream",
     "text": [
      "tensor([[[ 0,  0],\n",
      "         [ 0,  1],\n",
      "         [ 0,  2],\n",
      "         ...,\n",
      "         [ 0, 97],\n",
      "         [ 0, 98],\n",
      "         [ 0, 99]],\n",
      "\n",
      "        [[ 1,  0],\n",
      "         [ 1,  1],\n",
      "         [ 1,  2],\n",
      "         ...,\n",
      "         [ 1, 97],\n",
      "         [ 1, 98],\n",
      "         [ 1, 99]],\n",
      "\n",
      "        [[ 2,  0],\n",
      "         [ 2,  1],\n",
      "         [ 2,  2],\n",
      "         ...,\n",
      "         [ 2, 97],\n",
      "         [ 2, 98],\n",
      "         [ 2, 99]],\n",
      "\n",
      "        ...,\n",
      "\n",
      "        [[97,  0],\n",
      "         [97,  1],\n",
      "         [97,  2],\n",
      "         ...,\n",
      "         [97, 97],\n",
      "         [97, 98],\n",
      "         [97, 99]],\n",
      "\n",
      "        [[98,  0],\n",
      "         [98,  1],\n",
      "         [98,  2],\n",
      "         ...,\n",
      "         [98, 97],\n",
      "         [98, 98],\n",
      "         [98, 99]],\n",
      "\n",
      "        [[99,  0],\n",
      "         [99,  1],\n",
      "         [99,  2],\n",
      "         ...,\n",
      "         [99, 97],\n",
      "         [99, 98],\n",
      "         [99, 99]]])\n"
     ]
    }
   ],
   "source": [
    "i = torch.arange(0, 100)\n",
    "j = torch.arange(0, 100)\n",
    "grid = torch.stack(torch.meshgrid(i, j), -1)\n",
    "print(grid)"
   ]
  },
  {
   "cell_type": "code",
   "execution_count": null,
   "metadata": {},
   "outputs": [],
   "source": []
  }
 ],
 "metadata": {
  "kernelspec": {
   "display_name": "Python 3",
   "language": "python",
   "name": "python3"
  },
  "language_info": {
   "codemirror_mode": {
    "name": "ipython",
    "version": 3
   },
   "file_extension": ".py",
   "mimetype": "text/x-python",
   "name": "python",
   "nbconvert_exporter": "python",
   "pygments_lexer": "ipython3",
   "version": "3.7.6"
  }
 },
 "nbformat": 4,
 "nbformat_minor": 4
}
